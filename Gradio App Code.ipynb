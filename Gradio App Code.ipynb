{
 "cells": [
  {
   "cell_type": "markdown",
   "id": "050a51f3",
   "metadata": {},
   "source": [
    "Imports & Model Loading"
   ]
  },
  {
   "cell_type": "code",
   "execution_count": 1,
   "id": "4017606f",
   "metadata": {},
   "outputs": [
    {
     "name": "stderr",
     "output_type": "stream",
     "text": [
      "c:\\Users\\SHAHZOR AHMED\\anaconda3\\Lib\\site-packages\\torchvision\\models\\_utils.py:208: UserWarning: The parameter 'pretrained' is deprecated since 0.13 and may be removed in the future, please use 'weights' instead.\n",
      "  warnings.warn(\n",
      "c:\\Users\\SHAHZOR AHMED\\anaconda3\\Lib\\site-packages\\torchvision\\models\\_utils.py:223: UserWarning: Arguments other than a weight enum or `None` for 'weights' are deprecated since 0.13 and may be removed in the future. The current behavior is equivalent to passing `weights=None`.\n",
      "  warnings.warn(msg)\n"
     ]
    }
   ],
   "source": [
    "import os\n",
    "import torch\n",
    "import joblib\n",
    "import numpy as np\n",
    "import pandas as pd\n",
    "from PIL import Image\n",
    "import torch.nn as nn\n",
    "from torchvision import transforms\n",
    "from torchvision.models import efficientnet_b0\n",
    "from xgboost import XGBRegressor\n",
    "import locale\n",
    "locale.setlocale(locale.LC_ALL, 'en_IN')\n",
    "\n",
    "# Load EfficientNet model for damage classification\n",
    "device = torch.device(\"cuda\" if torch.cuda.is_available() else \"cpu\")\n",
    "effnet = efficientnet_b0(pretrained=False)\n",
    "effnet.classifier[1] = nn.Linear(effnet.classifier[1].in_features, 3)\n",
    "effnet.load_state_dict(torch.load(\"image_classification_dataset/best_model.pth\", map_location=device))\n",
    "effnet.to(device)\n",
    "effnet.eval()\n",
    "\n",
    "# Load XGBoost model, encoder, and scaler\n",
    "xgb_model = joblib.load(\"price_model_xgb.pkl\")\n",
    "encoder = joblib.load(\"encoder_xgb.pkl\")\n",
    "scaler = joblib.load(\"scaler_km.pkl\")\n"
   ]
  },
  {
   "cell_type": "markdown",
   "id": "b81c5710",
   "metadata": {},
   "source": [
    "Define Image Transform & Damage Predictor"
   ]
  },
  {
   "cell_type": "code",
   "execution_count": 2,
   "id": "706fec0c",
   "metadata": {},
   "outputs": [],
   "source": [
    "# Transform for image classification\n",
    "transform = transforms.Compose([\n",
    "    transforms.Resize((224, 224)),\n",
    "    transforms.ToTensor(),\n",
    "    transforms.Normalize([0.485, 0.456, 0.406], [0.229, 0.224, 0.225])\n",
    "])\n",
    "class_names = ['dent', 'no_damage', 'scratch']\n",
    "damage_score = {'no_damage': 0, 'scratch': 1, 'dent': 2}\n",
    "\n",
    "def classify_damage(image_path):\n",
    "    img = Image.open(image_path).convert(\"RGB\")\n",
    "    img_tensor = transform(img).unsqueeze(0).to(device)\n",
    "    with torch.no_grad():\n",
    "        output = effnet(img_tensor)\n",
    "        _, pred = torch.max(output, 1)\n",
    "    return class_names[pred.item()]\n"
   ]
  },
  {
   "cell_type": "markdown",
   "id": "84cdd527",
   "metadata": {},
   "source": [
    "Define Price Prediction Function"
   ]
  },
  {
   "cell_type": "code",
   "execution_count": 3,
   "id": "409caa99",
   "metadata": {},
   "outputs": [],
   "source": [
    "def predict_price(brand, model, year, km, fuel, transmission, owners, color, front, back, left, right):\n",
    "    # Predict damage for each image\n",
    "    front_d = classify_damage(front)\n",
    "    back_d = classify_damage(back)\n",
    "    left_d = classify_damage(left)\n",
    "    right_d = classify_damage(right)\n",
    "\n",
    "    # Create tabular row\n",
    "    data = {\n",
    "        'Brand': [brand],\n",
    "        'Model': [model],\n",
    "        'Year': [int(year)],\n",
    "        'kilometers Driven': scaler.transform([[float(km)]])[0],\n",
    "        'Fuel Type': [fuel],\n",
    "        'Transmission': [transmission],\n",
    "        'Number of Owners': [int(owners)],\n",
    "        'Colour': [color],\n",
    "        'FrontDamage': [damage_score[front_d]],\n",
    "        'BackDamage': [damage_score[back_d]],\n",
    "        'LeftDamage': [damage_score[left_d]],\n",
    "        'RightDamage': [damage_score[right_d]]\n",
    "    }\n",
    "\n",
    "    # Encode and predict\n",
    "    df_input = pd.DataFrame(data)\n",
    "    X = encoder.transform(df_input)\n",
    "    price = xgb_model.predict(X)[0]\n",
    "    formatted_price = locale.format_string(\"₹%.2f\", price, grouping=True)\n",
    "\n",
    "    # Create damage summary\n",
    "    summary = f\"\"\"### 🛠️ Damage Summary\n",
    "- **Front**: {front_d.capitalize()}\n",
    "- **Back**: {back_d.capitalize()}\n",
    "- **Left**: {left_d.capitalize()}\n",
    "- **Right**: {right_d.capitalize()}\"\"\"\n",
    "\n",
    "    return formatted_price, summary\n"
   ]
  },
  {
   "cell_type": "markdown",
   "id": "e2cdcfa3",
   "metadata": {},
   "source": [
    "Launch Gradio Interface"
   ]
  },
  {
   "cell_type": "code",
   "execution_count": 4,
   "id": "a6c20c83",
   "metadata": {},
   "outputs": [
    {
     "data": {
      "text/plain": [
       "'import gradio as gr\\n\\nwith gr.Blocks() as demo:\\n    gr.Markdown(\"## 🚗 Vehicle Resale Price Predictor\")\\n\\n    with gr.Row():\\n        with gr.Column():\\n            brand = gr.Textbox(label=\"Brand\")\\n            model = gr.Textbox(label=\"Model\")\\n            year = gr.Number(label=\"Year\", value=2020)\\n            km = gr.Number(label=\"Kilometers Driven\")\\n            fuel = gr.Dropdown([\"Petrol\", \"Diesel\", \"CNG\", \"Electric\"], label=\"Fuel Type\")\\n            transmission = gr.Dropdown([\"Manual\", \"Automatic\"], label=\"Transmission\")\\n            owners = gr.Dropdown([\"1\", \"2\", \"3\", \"4+\"], label=\"Number of Owners\")\\n            color = gr.Textbox(label=\"Colour\")\\n\\n        with gr.Column():\\n            front = gr.Image(type=\"filepath\", label=\"Front Image\")\\n            back = gr.Image(type=\"filepath\", label=\"Back Image\")\\n            left = gr.Image(type=\"filepath\", label=\"Left Image\")\\n            right = gr.Image(type=\"filepath\", label=\"Right Image\")\\n\\n    submit = gr.Button(\"Predict Resale Price\")\\n    output_price = gr.Textbox(label=\"Predicted Price\")\\n    output_summary = gr.Markdown(label=\"Damage Summary\")\\n\\n    submit.click(fn=predict_price, \\n             inputs=[brand, model, year, km, fuel, transmission, owners, color, front, back, left, right],\\n             outputs=[output_price, output_summary])\\n\\n\\ndemo.launch(share=True)\\n'"
      ]
     },
     "execution_count": 4,
     "metadata": {},
     "output_type": "execute_result"
    }
   ],
   "source": [
    "\"\"\"import gradio as gr\n",
    "\n",
    "with gr.Blocks() as demo:\n",
    "    gr.Markdown(\"## 🚗 Vehicle Resale Price Predictor\")\n",
    "\n",
    "    with gr.Row():\n",
    "        with gr.Column():\n",
    "            brand = gr.Textbox(label=\"Brand\")\n",
    "            model = gr.Textbox(label=\"Model\")\n",
    "            year = gr.Number(label=\"Year\", value=2020)\n",
    "            km = gr.Number(label=\"Kilometers Driven\")\n",
    "            fuel = gr.Dropdown([\"Petrol\", \"Diesel\", \"CNG\", \"Electric\"], label=\"Fuel Type\")\n",
    "            transmission = gr.Dropdown([\"Manual\", \"Automatic\"], label=\"Transmission\")\n",
    "            owners = gr.Dropdown([\"1\", \"2\", \"3\", \"4+\"], label=\"Number of Owners\")\n",
    "            color = gr.Textbox(label=\"Colour\")\n",
    "\n",
    "        with gr.Column():\n",
    "            front = gr.Image(type=\"filepath\", label=\"Front Image\")\n",
    "            back = gr.Image(type=\"filepath\", label=\"Back Image\")\n",
    "            left = gr.Image(type=\"filepath\", label=\"Left Image\")\n",
    "            right = gr.Image(type=\"filepath\", label=\"Right Image\")\n",
    "\n",
    "    submit = gr.Button(\"Predict Resale Price\")\n",
    "    output_price = gr.Textbox(label=\"Predicted Price\")\n",
    "    output_summary = gr.Markdown(label=\"Damage Summary\")\n",
    "\n",
    "    submit.click(fn=predict_price, \n",
    "             inputs=[brand, model, year, km, fuel, transmission, owners, color, front, back, left, right],\n",
    "             outputs=[output_price, output_summary])\n",
    "\n",
    "\n",
    "demo.launch(share=True)\n",
    "\"\"\""
   ]
  },
  {
   "cell_type": "code",
   "execution_count": null,
   "id": "b030f879",
   "metadata": {},
   "outputs": [],
   "source": []
  }
 ],
 "metadata": {
  "kernelspec": {
   "display_name": "base",
   "language": "python",
   "name": "python3"
  },
  "language_info": {
   "codemirror_mode": {
    "name": "ipython",
    "version": 3
   },
   "file_extension": ".py",
   "mimetype": "text/x-python",
   "name": "python",
   "nbconvert_exporter": "python",
   "pygments_lexer": "ipython3",
   "version": "3.12.7"
  }
 },
 "nbformat": 4,
 "nbformat_minor": 5
}
