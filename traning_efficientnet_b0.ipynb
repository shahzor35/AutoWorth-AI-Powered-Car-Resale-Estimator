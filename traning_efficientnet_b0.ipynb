{
 "cells": [
  {
   "cell_type": "markdown",
   "id": "2a83d4c0",
   "metadata": {},
   "source": [
    "Imports"
   ]
  },
  {
   "cell_type": "code",
   "execution_count": 15,
   "id": "9e673988",
   "metadata": {},
   "outputs": [],
   "source": [
    "import os\n",
    "import torch\n",
    "import torchvision\n",
    "from torchvision import transforms, datasets\n",
    "from torchvision.models import efficientnet_b0\n",
    "from torch.utils.data import DataLoader\n",
    "import torch.nn as nn\n",
    "import torch.optim as optim\n",
    "import numpy as np\n",
    "from sklearn.utils.class_weight import compute_class_weight\n"
   ]
  },
  {
   "cell_type": "markdown",
   "id": "c67b0b84",
   "metadata": {},
   "source": [
    "Paths"
   ]
  },
  {
   "cell_type": "code",
   "execution_count": 16,
   "id": "2818f47f",
   "metadata": {},
   "outputs": [],
   "source": [
    "data_dir = r\"C:\\Users\\SHAHZOR AHMED\\OneDrive\\Desktop\\Major project\\A new approach\\image_classification_dataset\"\n",
    "train_dir = os.path.join(data_dir, \"train\")\n",
    "val_dir = os.path.join(data_dir, \"val\")\n"
   ]
  },
  {
   "cell_type": "markdown",
   "id": "add7b91e",
   "metadata": {},
   "source": [
    "Transforms"
   ]
  },
  {
   "cell_type": "code",
   "execution_count": 17,
   "id": "3f4fae9f",
   "metadata": {},
   "outputs": [],
   "source": [
    "train_transforms = transforms.Compose([\n",
    "    transforms.Resize((224, 224)),\n",
    "    transforms.RandomHorizontalFlip(),\n",
    "    transforms.RandomRotation(10),\n",
    "    transforms.ToTensor(),\n",
    "    transforms.Normalize([0.485, 0.456, 0.406],\n",
    "                         [0.229, 0.224, 0.225])\n",
    "])\n",
    "\n",
    "val_transforms = transforms.Compose([\n",
    "    transforms.Resize((224, 224)),\n",
    "    transforms.ToTensor(),\n",
    "    transforms.Normalize([0.485, 0.456, 0.406],\n",
    "                         [0.229, 0.224, 0.225])\n",
    "])\n"
   ]
  },
  {
   "cell_type": "markdown",
   "id": "ab54814d",
   "metadata": {},
   "source": [
    "Load Data"
   ]
  },
  {
   "cell_type": "code",
   "execution_count": 18,
   "id": "c00b83e6",
   "metadata": {},
   "outputs": [
    {
     "name": "stdout",
     "output_type": "stream",
     "text": [
      "Classes: ['dent', 'no_damage', 'scratch']\n"
     ]
    }
   ],
   "source": [
    "train_dataset = datasets.ImageFolder(train_dir, transform=train_transforms)\n",
    "val_dataset = datasets.ImageFolder(val_dir, transform=val_transforms)\n",
    "\n",
    "train_loader = DataLoader(train_dataset, batch_size=32, shuffle=True)\n",
    "val_loader = DataLoader(val_dataset, batch_size=32, shuffle=False)\n",
    "\n",
    "class_names = train_dataset.classes\n",
    "print(\"Classes:\", class_names)  # Should print: ['dent', 'no_damage', 'scratch']\n"
   ]
  },
  {
   "cell_type": "markdown",
   "id": "250de131",
   "metadata": {},
   "source": [
    "Model Setup"
   ]
  },
  {
   "cell_type": "code",
   "execution_count": 19,
   "id": "034fb29c",
   "metadata": {},
   "outputs": [
    {
     "name": "stdout",
     "output_type": "stream",
     "text": [
      "Using device: cuda\n"
     ]
    },
    {
     "name": "stderr",
     "output_type": "stream",
     "text": [
      "c:\\Users\\SHAHZOR AHMED\\anaconda3\\Lib\\site-packages\\torchvision\\models\\_utils.py:208: UserWarning: The parameter 'pretrained' is deprecated since 0.13 and may be removed in the future, please use 'weights' instead.\n",
      "  warnings.warn(\n",
      "c:\\Users\\SHAHZOR AHMED\\anaconda3\\Lib\\site-packages\\torchvision\\models\\_utils.py:223: UserWarning: Arguments other than a weight enum or `None` for 'weights' are deprecated since 0.13 and may be removed in the future. The current behavior is equivalent to passing `weights=EfficientNet_B0_Weights.IMAGENET1K_V1`. You can also use `weights=EfficientNet_B0_Weights.DEFAULT` to get the most up-to-date weights.\n",
      "  warnings.warn(msg)\n"
     ]
    }
   ],
   "source": [
    "device = torch.device(\"cuda\" if torch.cuda.is_available() else \"cpu\")\n",
    "print(\"Using device:\", device)\n",
    "\n",
    "model = efficientnet_b0(pretrained=True)\n",
    "num_ftrs = model.classifier[1].in_features\n",
    "model.classifier = nn.Sequential(\n",
    "    nn.Dropout(0.4),\n",
    "    nn.Linear(num_ftrs, 3)\n",
    ")\n",
    "model = model.to(device)\n"
   ]
  },
  {
   "cell_type": "markdown",
   "id": "333f569f",
   "metadata": {},
   "source": [
    "Weighted Loss + Optimizer + Scheduler"
   ]
  },
  {
   "cell_type": "code",
   "execution_count": 20,
   "id": "f94b456e",
   "metadata": {},
   "outputs": [],
   "source": [
    "from sklearn.utils.class_weight import compute_class_weight\n",
    "import numpy as np\n",
    "\n",
    "# Class counts for dent, no_damage, scratch\n",
    "class_counts = [71, 404, 80]\n",
    "class_labels = np.array([0, 1, 2])  #  convert to np.ndarray\n",
    "\n",
    "# Compute balanced class weights\n",
    "weights = compute_class_weight(class_weight='balanced',\n",
    "                                classes=class_labels,\n",
    "                                y=[\n",
    "    *([0] * class_counts[0]),\n",
    "    *([1] * class_counts[1]),\n",
    "    *([2] * class_counts[2])\n",
    "])\n",
    "\n",
    "# Convert to tensor and move to device\n",
    "weights = torch.tensor(weights, dtype=torch.float).to(device)\n",
    "\n",
    "# Define loss with class weights\n",
    "criterion = nn.CrossEntropyLoss(weight=weights)\n",
    "\n",
    "# Optimizer and learning rate scheduler\n",
    "optimizer = optim.Adam(model.parameters(), lr=0.001)\n",
    "scheduler = optim.lr_scheduler.StepLR(optimizer, step_size=3, gamma=0.5)\n"
   ]
  },
  {
   "cell_type": "markdown",
   "id": "1edab789",
   "metadata": {},
   "source": [
    "Training Loop with Validation + Early Stopping"
   ]
  },
  {
   "cell_type": "code",
   "execution_count": 21,
   "id": "7604214f",
   "metadata": {},
   "outputs": [
    {
     "name": "stdout",
     "output_type": "stream",
     "text": [
      "Epoch 1/15 | Train Acc: 41.44% | Val Acc: 52.52%\n",
      "Epoch 2/15 | Train Acc: 55.32% | Val Acc: 51.80%\n",
      "Epoch 3/15 | Train Acc: 61.26% | Val Acc: 61.87%\n",
      "Epoch 4/15 | Train Acc: 70.63% | Val Acc: 58.99%\n",
      "Epoch 5/15 | Train Acc: 81.62% | Val Acc: 59.71%\n",
      "Epoch 6/15 | Train Acc: 85.05% | Val Acc: 62.59%\n",
      "Epoch 7/15 | Train Acc: 89.73% | Val Acc: 58.99%\n",
      "Epoch 8/15 | Train Acc: 94.23% | Val Acc: 58.27%\n",
      "Epoch 9/15 | Train Acc: 95.14% | Val Acc: 66.91%\n",
      "Epoch 10/15 | Train Acc: 96.22% | Val Acc: 66.91%\n",
      "Epoch 11/15 | Train Acc: 96.94% | Val Acc: 67.63%\n",
      "Epoch 12/15 | Train Acc: 96.58% | Val Acc: 68.35%\n",
      "Epoch 13/15 | Train Acc: 97.30% | Val Acc: 66.91%\n",
      "Epoch 14/15 | Train Acc: 97.48% | Val Acc: 66.19%\n",
      "Epoch 15/15 | Train Acc: 98.92% | Val Acc: 66.91%\n"
     ]
    }
   ],
   "source": [
    "epochs = 15\n",
    "best_val_acc = 0\n",
    "early_stop_count = 0\n",
    "\n",
    "for epoch in range(epochs):\n",
    "    model.train()\n",
    "    running_loss = 0.0\n",
    "    correct = 0\n",
    "    total = 0\n",
    "\n",
    "    for inputs, labels in train_loader:\n",
    "        inputs, labels = inputs.to(device), labels.to(device)\n",
    "\n",
    "        optimizer.zero_grad()\n",
    "        outputs = model(inputs)\n",
    "        loss = criterion(outputs, labels)\n",
    "        loss.backward()\n",
    "        optimizer.step()\n",
    "\n",
    "        running_loss += loss.item()\n",
    "        _, predicted = torch.max(outputs.data, 1)\n",
    "        correct += (predicted == labels).sum().item()\n",
    "        total += labels.size(0)\n",
    "\n",
    "    train_acc = 100 * correct / total\n",
    "    scheduler.step()\n",
    "\n",
    "    # Validation\n",
    "    model.eval()\n",
    "    val_correct = 0\n",
    "    val_total = 0\n",
    "    with torch.no_grad():\n",
    "        for inputs, labels in val_loader:\n",
    "            inputs, labels = inputs.to(device), labels.to(device)\n",
    "            outputs = model(inputs)\n",
    "            _, predicted = torch.max(outputs, 1)\n",
    "            val_correct += (predicted == labels).sum().item()\n",
    "            val_total += labels.size(0)\n",
    "\n",
    "    val_acc = 100 * val_correct / val_total\n",
    "    print(f\"Epoch {epoch+1}/{epochs} | Train Acc: {train_acc:.2f}% | Val Acc: {val_acc:.2f}%\")\n",
    "\n",
    "    if val_acc > best_val_acc:\n",
    "        best_val_acc = val_acc\n",
    "        early_stop_count = 0\n",
    "        torch.save(model.state_dict(), os.path.join(data_dir, \"best_model.pth\"))\n",
    "    else:\n",
    "        early_stop_count += 1\n",
    "        if early_stop_count >= 5:\n",
    "            print(\"Early stopping triggered.\")\n",
    "            break\n"
   ]
  }
 ],
 "metadata": {
  "kernelspec": {
   "display_name": "base",
   "language": "python",
   "name": "python3"
  },
  "language_info": {
   "codemirror_mode": {
    "name": "ipython",
    "version": 3
   },
   "file_extension": ".py",
   "mimetype": "text/x-python",
   "name": "python",
   "nbconvert_exporter": "python",
   "pygments_lexer": "ipython3",
   "version": "3.12.7"
  }
 },
 "nbformat": 4,
 "nbformat_minor": 5
}
